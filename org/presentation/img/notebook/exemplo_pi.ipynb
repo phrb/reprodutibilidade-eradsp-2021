{
 "cells": [
  {
   "cell_type": "markdown",
   "id": "1b424e9a",
   "metadata": {},
   "source": [
    "# Documento Computacional\n",
    "\n",
    "Meu computador me diz que $\\pi$ vale aproximadamente"
   ]
  },
  {
   "cell_type": "code",
   "execution_count": 3,
   "id": "30e08bff",
   "metadata": {
    "tags": [
     "noinput"
    ]
   },
   "outputs": [
    {
     "name": "stdout",
     "output_type": "stream",
     "text": [
      "3.141592653589793\n"
     ]
    }
   ],
   "source": [
    "from math import *\n",
    "\n",
    "print(pi)"
   ]
  },
  {
   "cell_type": "markdown",
   "id": "aace2e52",
   "metadata": {},
   "source": [
    "Mas se usarmos o **método** da [Agulha de Buffon](https://pt.wikipedia.org/wiki/Agulha_de_Buffon), obteremos a **aproximação**:"
   ]
  },
  {
   "cell_type": "code",
   "execution_count": 8,
   "id": "2060427b",
   "metadata": {},
   "outputs": [
    {
     "name": "stdout",
     "output_type": "stream",
     "text": [
      "3.142712129140327\n"
     ]
    }
   ],
   "source": [
    "import numpy as np\n",
    "\n",
    "N = 1000000\n",
    "x = np.random.uniform(size = N, low = 0, high = 1)\n",
    "theta = np.random.uniform(size = N, low = 0, high = pi / 2)\n",
    "\n",
    "approx_pi = 2 / (sum(x + np.sin(theta) > 1) / N)\n",
    "\n",
    "print(approx_pi)"
   ]
  },
  {
   "cell_type": "markdown",
   "id": "00639326",
   "metadata": {},
   "source": [
    "Podemos também incluir fórmulas matemáticas como $\\frac{1}{\\sigma\\sqrt{2/pi}} \\exp \\left(-\\frac{(x - \\mu)^2}{2 / \\sigma^2}\\right)$ e *desenhos* que não têm nada a ver com $\\pi$ (ele ao menos aparece como constante de normalização 😀)"
   ]
  },
  {
   "cell_type": "code",
   "execution_count": 16,
   "id": "00a251a8",
   "metadata": {
    "tags": [
     "noinput"
    ]
   },
   "outputs": [
    {
     "data": {
      "image/png": "[encoded data removed]",
      "text/plain": [
       "<Figure size 432x288 with 1 Axes>"
      ]
     },
     "metadata": {
      "needs_background": "light"
     },
     "output_type": "display_data"
    }
   ],
   "source": [
    "import matplotlib.pyplot as plt\n",
    "\n",
    "mu, sigma = 100, 15\n",
    "x = mu + (sigma * np.random.randn(10000))\n",
    "\n",
    "plt.hist(x, 40)\n",
    "plt.grid(True)\n",
    "plt.show()"
   ]
  }
 ],
 "metadata": {
  "kernelspec": {
   "display_name": "Python 3",
   "language": "python",
   "name": "python3"
  },
  "language_info": {
   "codemirror_mode": {
    "name": "ipython",
    "version": 3
   },
   "file_extension": ".py",
   "mimetype": "text/x-python",
   "name": "python",
   "nbconvert_exporter": "python",
   "pygments_lexer": "ipython3",
   "version": "3.9.4"
  }
 },
 "nbformat": 4,
 "nbformat_minor": 5
}
