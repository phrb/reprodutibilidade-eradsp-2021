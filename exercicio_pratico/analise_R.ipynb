{
 "cells": [
  {
   "cell_type": "markdown",
   "id": "d0e6fdde",
   "metadata": {},
   "source": [
    "# Análise de Dados e Gráficos com *R*"
   ]
  },
  {
   "cell_type": "markdown",
   "id": "1722728d",
   "metadata": {},
   "source": [
    "O objetivo deste exercício é demonstrar algumas funcionalidades da linguagem *R* para análise estatística e geração de gráficos.\n",
    "\n",
    "As dependências de software já estão instaladas na imagem *Docker* disponibilizada no repositório do minicurso, que também determina as versões dos pacotes que vamos usar. Rode a célula abaixo para carregar os pacotes que vamos usar, e listar o ambiente disponível."
   ]
  },
  {
   "cell_type": "markdown",
   "id": "c334ed7a",
   "metadata": {},
   "source": [
    "Apesar de não garantir a reprodutibilidade, poder controlar as versões do sistema operacional, da linguagem *R*, e de cada pacote que usamos ajuda a compartilhar código, facilita o trabalho colaborativo, e ajuda a resolver problemas no futuro, quando as versões podem mudar."
   ]
  },
  {
   "cell_type": "code",
   "execution_count": null,
   "id": "9ba9fb48",
   "metadata": {},
   "outputs": [],
   "source": [
    "# Pacotes usados\n",
    "library(dplyr) # Manipulação de dados\n",
    "library(tidyr) # Manipulação de dados\n",
    "library(ggplot2) # Geração de gráficos\n",
    "library(datasauRus) # Dados utilizados\n",
    "\n",
    "sessionInfo() # Lista ambiente desta seção"
   ]
  },
  {
   "cell_type": "markdown",
   "id": "7526f3f8",
   "metadata": {},
   "source": [
    "## O Quarteto de Anscombe e o Datasaurus\n",
    "\n",
    "Agora já devemos estar com o conjunto de dados carregado. Esse conjunto de dados foi elaborado para demonstrar que sempre devemos desconfiar de sínteses feitas a partir de um conjunto de dados, mesmo quando os desvios padrão e intervalos de confiança são incluídos. O conjunto de dados que vamos usar é uma extensão dos conceitos discutidos no [Quarteto de Anscombe](https://pt.wikipedia.org/wiki/Quarteto_de_Anscombe), representados pela tabela retirada da Wikipédia e reproduzida abaixo:"
   ]
  },
  {
   "cell_type": "markdown",
   "id": "26c40a10",
   "metadata": {},
   "source": [
    "![Anscombe](img/anscombe.png)"
   ]
  },
  {
   "cell_type": "markdown",
   "id": "069a5c4b",
   "metadata": {},
   "source": [
    "Veja que todas as tentativas de sintetizar as diferenças entre esse conjunto de dados falham em demonstrar a diferença que podemos observar com os gráficos.\n",
    "\n",
    "Neste exercício, nós vamos fazer uma análise estatística \"do avesso\". Vamos começar com medidas de sumário e depois verificar o comportamento dos dados com gráficos. Isso é exatamente o inverso do que devemos fazer num cenário real.\n",
    "\n",
    "Primeiro, vamos usar a função `str` para começar a entender o conjunto de dados que temos à mão:"
   ]
  },
  {
   "cell_type": "code",
   "execution_count": null,
   "id": "a49a8bff",
   "metadata": {},
   "outputs": [],
   "source": [
    "str(data.frame(datasaurus_dozen))"
   ]
  },
  {
   "cell_type": "markdown",
   "id": "95ce0777",
   "metadata": {},
   "source": [
    "Para facilitar a leitura da saída, transformamos a variável `datasaurus_dozen`, definida pelo pacote `datasauRus`, num `data.frame`. Experimente a saída sem usar o DataFrame. Qual o tipo dos dados? De qual pacote esse tipo vem?\n",
    "\n",
    "Vemos que temos 1846 observações, correspondentes a cada linha, e três variáveis, correspondentes às colunas. Um DataFrame é basicamente uma tabela, e é padrão colocar as observações, ou experimentos, nas linhas, e as variáveis nas colunas.\n",
    "\n",
    "Se quisermos saber quais são os valores da coluna `dataset`, podemos fazer:"
   ]
  },
  {
   "cell_type": "code",
   "execution_count": null,
   "id": "fc525833",
   "metadata": {},
   "outputs": [],
   "source": [
    "unique(datasaurus_dozen$dataset)"
   ]
  },
  {
   "cell_type": "markdown",
   "id": "b1a99340",
   "metadata": {},
   "source": [
    "Podemos também observar as primeiras linhas desse DataFrame com a função `head`:"
   ]
  },
  {
   "cell_type": "code",
   "execution_count": null,
   "id": "f97ce1f1",
   "metadata": {},
   "outputs": [],
   "source": [
    "datasaurus_dozen %>% head(n = 10)"
   ]
  },
  {
   "cell_type": "markdown",
   "id": "d271d0fb",
   "metadata": {},
   "source": [
    "Note que estamos usando o operador `%>%`, ou *pipe*, para passar a variável `datasaurus_dozen` como primeiro argumento da função `head`. Podemos fazer o mesmo com a função `sample_n`, para observar uma amostra aleatória do DataFrame:"
   ]
  },
  {
   "cell_type": "code",
   "execution_count": null,
   "id": "479e5754",
   "metadata": {},
   "outputs": [],
   "source": [
    "datasaurus_dozen %>% sample_n(size = 10)"
   ]
  },
  {
   "cell_type": "markdown",
   "id": "d899c266",
   "metadata": {},
   "source": [
    "Agora, vamos criar um novo DataFrame chamado `df`, contento as médias das colunas `x` e `y`, e outras sínteses:"
   ]
  },
  {
   "cell_type": "code",
   "execution_count": null,
   "id": "c1aa1644",
   "metadata": {},
   "outputs": [],
   "source": [
    "df = datasaurus_dozen %>%\n",
    "    group_by(dataset) %>%\n",
    "    summarize(mean_x = mean(x),\n",
    "              mean_y = mean(y),\n",
    "              ci_95_x = (1.96 * sd(x)) / sqrt(n()),\n",
    "              ci_95_y = (1.96 * sd(y)) / sqrt(n()),\n",
    "              cor_pearson = cor(x, y)) %>%\n",
    "    ungroup()\n",
    "\n",
    "df"
   ]
  },
  {
   "cell_type": "markdown",
   "id": "0a4953fd",
   "metadata": {},
   "source": [
    "Estamos usando a função `group_by`, do pacote `dplyr`, para agrupar as linhas do DataFrame e calcular as estatísticas separadamente. O que é o intevalo de confiança a 95%? E o índice de correlação de Pearson?\n",
    "\n",
    "Relembrando, podemos estimar o índice de correlação de Pearson, escrito\n",
    "\n",
    "$$\n",
    "\\rho = \\dfrac{\\text{cov}(X,Y)}{\\sigma_x \\sigma_y}\\text{,}\n",
    "$$\n",
    "\n",
    "usando a fórmula\n",
    "\n",
    "$$\n",
    "r = \\dfrac{{}\\sum_{i=1}^{n} (x_i - \\overline{x})(y_i - \\overline{y})}\n",
    "{\\sqrt{\\sum_{i=1}^{n} (x_i - \\overline{x})^2(y_i - \\overline{y})^2}}\\text{,}\n",
    "$$\n",
    "\n",
    "e podemos estimar o desvio padrão fazendo\n",
    "\n",
    "$$\n",
    "\\sigma = \\sqrt{\\dfrac{1}{N} \\sum_{i=1}^N (x_i - \\mu)^2}\\text{.}\n",
    "$$"
   ]
  },
  {
   "cell_type": "markdown",
   "id": "ea393e4b",
   "metadata": {},
   "source": [
    "### Questão\n",
    "\n",
    "Qual é a sua interpretação da tabela com sínteses estatísticas? Baseando-se nela, você diria que há diferenças entre os `datasets`? Quais?\n",
    "Nesse ponto da análise, o que você faria para explorar melhor os dados?\n",
    "\n",
    "### Quais gráficos podem ajudar?\n",
    "\n",
    "Vamos colocar os dados em gráficos. Quais gráficos devemos fazer? Se apenas representarmos os mesmos dados da tabela, não vamos aprender nada novo. Os dois gráficos abaixo apenas reforçam a impressão de que os conjuntos de dados são idênticos."
   ]
  },
  {
   "cell_type": "code",
   "execution_count": null,
   "id": "01cbfd98",
   "metadata": {},
   "outputs": [],
   "source": [
    "options(repr.plot.width = 20, repr.plot.height = 10)\n",
    "\n",
    "ggplot(df) +\n",
    "    geom_point(aes(x = dataset, y = mean_x)) +\n",
    "    geom_errorbar(aes(ymin = mean_x - ci_95_x,\n",
    "                     ymax = mean_x + ci_95_x,\n",
    "                     x = dataset)) +\n",
    "    ylim(0, NA) +\n",
    "    ylab(\"Média dos x + CI\") +\n",
    "    theme_bw(base_size = 35) +\n",
    "    theme(legend.position = \"none\",\n",
    "        axis.text.x = element_text(angle = 30, hjust = 1))"
   ]
  },
  {
   "cell_type": "code",
   "execution_count": null,
   "id": "f67ce762",
   "metadata": {},
   "outputs": [],
   "source": [
    "options(repr.plot.width = 20, repr.plot.height = 10)\n",
    "\n",
    "ggplot(df) +\n",
    "    geom_point(aes(x = dataset, y = mean_y)) +\n",
    "    geom_errorbar(aes(ymin = mean_y - ci_95_y,\n",
    "                     ymax = mean_y + ci_95_y,\n",
    "                     x = dataset)) +\n",
    "    ylim(0, NA) +\n",
    "    ylab(\"Média dos y + CI\") +\n",
    "    theme_bw(base_size = 35) +\n",
    "    theme(legend.position = \"none\",\n",
    "        axis.text.x = element_text(angle = 30, hjust = 1))"
   ]
  },
  {
   "cell_type": "markdown",
   "id": "4c21dcf8",
   "metadata": {},
   "source": [
    "## Desvendando o Datasaurus\n",
    "\n",
    "O [Datasaurus Dozen](http://www.thefunctionalart.com/2016/08/download-datasaurus-never-trust-summary.html) é uma extensão do conceito apresentado no [Quarteto de Anscombe](https://pt.wikipedia.org/wiki/Quarteto_de_Anscombe). Se fizermos um gráfico de dispersão com as variáveis $x$ e $y$, veremos que cada um dos 13 conjuntos de dados (12 + o Datasaurus) é completamente diferente!"
   ]
  },
  {
   "cell_type": "code",
   "execution_count": null,
   "id": "9194fedd",
   "metadata": {},
   "outputs": [],
   "source": [
    "options(repr.plot.width = 20, repr.plot.height = 16)\n",
    "\n",
    "ggplot() +\n",
    "    geom_hline(data = df,\n",
    "               size = 1.4,\n",
    "               linetype = 2,\n",
    "               alpha = 1,\n",
    "               color = \"gray80\",\n",
    "               aes(yintercept = mean_y)) +\n",
    "    geom_vline(data = df,\n",
    "               size = 1.4,\n",
    "               linetype = 2,\n",
    "               alpha = 1,\n",
    "               color = \"gray80\",\n",
    "               aes(xintercept = mean_x)) +\n",
    "    geom_point(data = datasaurus_dozen,\n",
    "               size = 2,\n",
    "               aes(x = x, y = y, color = dataset)) +\n",
    "    theme_bw(base_size = 30) +\n",
    "    theme(legend.position = \"none\",\n",
    "         panel.grid = element_blank(),\n",
    "         strip.background = element_rect(fill = \"transparent\")) +\n",
    "    facet_wrap(~ dataset, ncol = 4)"
   ]
  },
  {
   "cell_type": "markdown",
   "id": "fe17ef2d",
   "metadata": {},
   "source": [
    "Os painéis da figura acima mostram cada um dos conjuntos de dados, com linhas tracejadas marcando as médias dos dados em cada eixo.\n",
    "\n",
    "Esses conjuntos foram criados a partir do Datasaurus (o conjunto \"Dino\"), através da perturbação progressiva dos pontos, mas mantendo um conjunto de métricas estatísticas constante. O processo é descrito em mais detalhes [neste post](https://www.autodesk.com/research/publications/same-stats-different-graphs), e o objetivo é mostrar que toda análise estatística deve começar por gráficos bem escolhidos."
   ]
  },
  {
   "cell_type": "markdown",
   "id": "90a406a2",
   "metadata": {},
   "source": [
    "## Exercício: Análise Estatística\n",
    "\n",
    "Agora que já compreendemos que existem diferenças, procure encontrar uma ou mais formas de distinguir os conjuntos de dados no Datasaurus Dozen usando análises estatísticas.\n",
    "\n",
    "Você pode copiar e modificar os trechos de código acima, pode procurar na documentação dos pacotes /R/ que usamos (ou outros), e também pode conversar com outros participantes e com o instrutor do curso.\n",
    "\n",
    "Veja também as duas sugestões abaixo.\n",
    "\n",
    "### Modelos Lineares\n",
    "\n",
    "Aqui, estamos usando o `geom_smooth` da bilioteca `ggplot2`. No entanto, parece que todas as regressões são iguais! Como prosseguir?"
   ]
  },
  {
   "cell_type": "code",
   "execution_count": null,
   "id": "59587cb5",
   "metadata": {},
   "outputs": [],
   "source": [
    "options(repr.plot.width = 20, repr.plot.height = 16)\n",
    "\n",
    "ggplot() +\n",
    "    geom_point(data = datasaurus_dozen,\n",
    "               size = 2,\n",
    "               aes(x = x, y = y, color = dataset)) +\n",
    "    geom_smooth(data = datasaurus_dozen,\n",
    "                method = \"lm\",\n",
    "                formula = y ~ x,\n",
    "                aes(x = x, y = y, color = dataset)) +\n",
    "    theme_bw(base_size = 30) +\n",
    "    theme(legend.position = \"none\",\n",
    "         panel.grid = element_blank(),\n",
    "         strip.background = element_rect(fill = \"transparent\")) +\n",
    "    facet_wrap(~ dataset, ncol = 4)"
   ]
  },
  {
   "cell_type": "markdown",
   "id": "b1828344",
   "metadata": {},
   "source": [
    "### Histogramas\n",
    "\n",
    "Modifique os exemplos anteriores e use o `geom_histogram` do pacote `ggplot2`. Elabore um argumento sobre o que você interpreta a partir das distribuições produzidas para cada conjunto de dados."
   ]
  },
  {
   "cell_type": "code",
   "execution_count": null,
   "id": "cb46efcc",
   "metadata": {},
   "outputs": [],
   "source": []
  }
 ],
 "metadata": {
  "kernelspec": {
   "display_name": "R",
   "language": "R",
   "name": "ir"
  },
  "language_info": {
   "codemirror_mode": "r",
   "file_extension": ".r",
   "mimetype": "text/x-r-source",
   "name": "R",
   "pygments_lexer": "r",
   "version": "4.0.3"
  }
 },
 "nbformat": 4,
 "nbformat_minor": 5
}
